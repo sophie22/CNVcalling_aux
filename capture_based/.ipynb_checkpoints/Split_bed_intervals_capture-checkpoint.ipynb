{
 "cells": [
  {
   "cell_type": "code",
   "execution_count": 15,
   "id": "785496a7",
   "metadata": {},
   "outputs": [],
   "source": [
    "import sys\n",
    "import pandas as pd\n",
    "import matplotlib.pyplot as plt\n",
    "import seaborn as sns; sns.set()\n",
    "\n",
    "interval_length_max = 250"
   ]
  },
  {
   "cell_type": "markdown",
   "id": "efa06bc0-0f3a-4d9c-ba36-dc244d4e7b5c",
   "metadata": {
    "tags": []
   },
   "source": [
    "## Load bed file regions into DataFrame"
   ]
  },
  {
   "cell_type": "code",
   "execution_count": 16,
   "id": "f4600717",
   "metadata": {},
   "outputs": [
    {
     "name": "stdout",
     "output_type": "stream",
     "text": [
      "3014\n",
      "['1', '2', '3', '4', '5', '6', '7', '8', '9', '10', '11', '12', '13', '14', '15', '16', '17', '18', '19', '20', '21', '22', 'X']\n"
     ]
    }
   ],
   "source": [
    "inFile = \"merged10_capture.bed\" # merge -d 10 capture bed\n",
    "intervals_df = pd.read_csv(inFile, sep='\\t', names=['chrom', 'start', 'end', 'length'], low_memory=False)\n",
    "print(len(intervals_df))\n",
    "chroms = intervals_df['chrom'].unique().tolist()\n",
    "# print(chroms)"
   ]
  },
  {
   "cell_type": "code",
   "execution_count": 17,
   "id": "1af25446",
   "metadata": {},
   "outputs": [
    {
     "data": {
      "text/html": [
       "<div>\n",
       "<style scoped>\n",
       "    .dataframe tbody tr th:only-of-type {\n",
       "        vertical-align: middle;\n",
       "    }\n",
       "\n",
       "    .dataframe tbody tr th {\n",
       "        vertical-align: top;\n",
       "    }\n",
       "\n",
       "    .dataframe thead th {\n",
       "        text-align: right;\n",
       "    }\n",
       "</style>\n",
       "<table border=\"1\" class=\"dataframe\">\n",
       "  <thead>\n",
       "    <tr style=\"text-align: right;\">\n",
       "      <th></th>\n",
       "      <th>chrom</th>\n",
       "      <th>start</th>\n",
       "      <th>end</th>\n",
       "      <th>length</th>\n",
       "      <th>dist_before</th>\n",
       "      <th>dist_after</th>\n",
       "    </tr>\n",
       "  </thead>\n",
       "  <tbody>\n",
       "    <tr>\n",
       "      <th>1</th>\n",
       "      <td>1</td>\n",
       "      <td>7917093</td>\n",
       "      <td>7917213</td>\n",
       "      <td>120</td>\n",
       "      <td>17</td>\n",
       "      <td>2649001</td>\n",
       "    </tr>\n",
       "    <tr>\n",
       "      <th>3</th>\n",
       "      <td>1</td>\n",
       "      <td>17345175</td>\n",
       "      <td>17345483</td>\n",
       "      <td>308</td>\n",
       "      <td>6778960</td>\n",
       "      <td>3465</td>\n",
       "    </tr>\n",
       "    <tr>\n",
       "      <th>4</th>\n",
       "      <td>1</td>\n",
       "      <td>17348948</td>\n",
       "      <td>17349280</td>\n",
       "      <td>332</td>\n",
       "      <td>3465</td>\n",
       "      <td>1157</td>\n",
       "    </tr>\n",
       "    <tr>\n",
       "      <th>5</th>\n",
       "      <td>1</td>\n",
       "      <td>17350437</td>\n",
       "      <td>17350599</td>\n",
       "      <td>162</td>\n",
       "      <td>1157</td>\n",
       "      <td>3614</td>\n",
       "    </tr>\n",
       "    <tr>\n",
       "      <th>6</th>\n",
       "      <td>1</td>\n",
       "      <td>17354213</td>\n",
       "      <td>17354390</td>\n",
       "      <td>177</td>\n",
       "      <td>3614</td>\n",
       "      <td>674</td>\n",
       "    </tr>\n",
       "    <tr>\n",
       "      <th>...</th>\n",
       "      <td>...</td>\n",
       "      <td>...</td>\n",
       "      <td>...</td>\n",
       "      <td>...</td>\n",
       "      <td>...</td>\n",
       "      <td>...</td>\n",
       "    </tr>\n",
       "    <tr>\n",
       "      <th>3008</th>\n",
       "      <td>X</td>\n",
       "      <td>130419122</td>\n",
       "      <td>130419470</td>\n",
       "      <td>348</td>\n",
       "      <td>1854</td>\n",
       "      <td>240</td>\n",
       "    </tr>\n",
       "    <tr>\n",
       "      <th>3009</th>\n",
       "      <td>X</td>\n",
       "      <td>130419710</td>\n",
       "      <td>130420052</td>\n",
       "      <td>342</td>\n",
       "      <td>240</td>\n",
       "      <td>328</td>\n",
       "    </tr>\n",
       "    <tr>\n",
       "      <th>3010</th>\n",
       "      <td>X</td>\n",
       "      <td>130420380</td>\n",
       "      <td>130420467</td>\n",
       "      <td>87</td>\n",
       "      <td>328</td>\n",
       "      <td>81</td>\n",
       "    </tr>\n",
       "    <tr>\n",
       "      <th>3011</th>\n",
       "      <td>X</td>\n",
       "      <td>130420548</td>\n",
       "      <td>130420848</td>\n",
       "      <td>300</td>\n",
       "      <td>81</td>\n",
       "      <td>5010509</td>\n",
       "    </tr>\n",
       "    <tr>\n",
       "      <th>3013</th>\n",
       "      <td>X</td>\n",
       "      <td>139585684</td>\n",
       "      <td>139587425</td>\n",
       "      <td>1741</td>\n",
       "      <td>4154326</td>\n",
       "      <td>0</td>\n",
       "    </tr>\n",
       "  </tbody>\n",
       "</table>\n",
       "<p>2280 rows × 6 columns</p>\n",
       "</div>"
      ],
      "text/plain": [
       "     chrom      start        end  length  dist_before  dist_after\n",
       "1        1    7917093    7917213     120           17     2649001\n",
       "3        1   17345175   17345483     308      6778960        3465\n",
       "4        1   17348948   17349280     332         3465        1157\n",
       "5        1   17350437   17350599     162         1157        3614\n",
       "6        1   17354213   17354390     177         3614         674\n",
       "...    ...        ...        ...     ...          ...         ...\n",
       "3008     X  130419122  130419470     348         1854         240\n",
       "3009     X  130419710  130420052     342          240         328\n",
       "3010     X  130420380  130420467      87          328          81\n",
       "3011     X  130420548  130420848     300           81     5010509\n",
       "3013     X  139585684  139587425    1741      4154326           0\n",
       "\n",
       "[2280 rows x 6 columns]"
      ]
     },
     "execution_count": 17,
     "metadata": {},
     "output_type": "execute_result"
    }
   ],
   "source": [
    "dist_list = []\n",
    "for chrom in chroms:\n",
    "    dist_list.append(0)\n",
    "    chrom_ints = intervals_df[intervals_df['chrom'] == chrom]\n",
    "    chrom_starts = chrom_ints['start'].to_list()[1:]\n",
    "    chrom_ends = chrom_ints['end'].to_list()[:-1]\n",
    "    for i in range(len(chrom_starts)):\n",
    "        dist_list.append(chrom_starts[i] - chrom_ends[i])\n",
    "\n",
    "if len(dist_list) == len(intervals_df):\n",
    "    intervals_df['dist_before'] = dist_list\n",
    "    dist_after = dist_list[1:].copy()\n",
    "    dist_after.append(0) # returns None, happens inplace\n",
    "    intervals_df['dist_after'] = dist_after\n",
    "\n",
    "intervals_df.drop(intervals_df[intervals_df['length'] == 1].index, inplace=True)\n",
    "intervals_df"
   ]
  },
  {
   "cell_type": "markdown",
   "id": "77771e95",
   "metadata": {
    "tags": []
   },
   "source": [
    "## Split intervals"
   ]
  },
  {
   "cell_type": "code",
   "execution_count": 18,
   "id": "bd98086b-9249-423d-9c8a-f367cbbd4701",
   "metadata": {},
   "outputs": [],
   "source": [
    "interval_list_df = intervals_df.copy()"
   ]
  },
  {
   "cell_type": "markdown",
   "id": "cfea9b88-7ab3-4009-91b7-a8ed9468ca4a",
   "metadata": {
    "tags": []
   },
   "source": [
    "### Identify regions need splitting"
   ]
  },
  {
   "cell_type": "code",
   "execution_count": 19,
   "id": "88e732a1-1caf-4f5b-8d5a-5d1b46e1604b",
   "metadata": {},
   "outputs": [],
   "source": [
    "interval_list_df[interval_length_max] = interval_list_df['length'] > interval_length_max\n",
    "# Create new table for the intervals that are optimised to be between less than 100 bp\n",
    "\n",
    "# Step 1: copy over smaller intervals intact\n",
    "intervals_max = interval_list_df.loc[interval_list_df[interval_length_max] == False, ['chrom', 'start', 'end', 'length']].reset_index(drop=True)"
   ]
  },
  {
   "cell_type": "code",
   "execution_count": 20,
   "id": "7de35b78",
   "metadata": {},
   "outputs": [
    {
     "name": "stdout",
     "output_type": "stream",
     "text": [
      "2310\n"
     ]
    }
   ],
   "source": [
    "# Step 2: split longer intervals into smaller ones within range\n",
    "def split_intervals(length, interval_length_max):\n",
    "    num_intervals = int(length / interval_length_max)\n",
    "    leftover = length % interval_length_max\n",
    "#     print(length, num_intervals, interval_length_max, leftover)\n",
    "    if leftover == 0:\n",
    "        interval_lengths = [interval_length_max] * num_intervals\n",
    "    else:\n",
    "        num_intervals += 1\n",
    "        base_interval_length = int(length / num_intervals)\n",
    "        spillover = length % num_intervals\n",
    "#         print(length, num_intervals, base_interval_length, spillover)\n",
    "        interval_lengths = [base_interval_length] * num_intervals\n",
    "        for i in range(spillover):\n",
    "            interval_lengths[i] += 1\n",
    "    return interval_lengths\n",
    "\n",
    "def new_intervals(row, int_length):\n",
    "    new_interval_lengths = split_intervals(row.length, int_length) # list of interval lengths\n",
    "    chroms = [row.chrom] * len(new_interval_lengths)\n",
    "\n",
    "    for i in range(len(new_interval_lengths)):\n",
    "        if i == 0:\n",
    "            starts = [row.start]\n",
    "            ends = [starts[0] + new_interval_lengths[i]]\n",
    "        else:\n",
    "            starts.append(ends[i-1]) # sum(new_interval_lengths[:i])\n",
    "            ends.append(starts[i] + new_interval_lengths[i])\n",
    "    new_intervals = pd.DataFrame({'chrom': chroms, 'start': starts, 'end': ends, 'length': new_interval_lengths})\n",
    "    global split_intervals_max\n",
    "    split_intervals_max = pd.concat([split_intervals_max, new_intervals], axis=0)\n",
    "    return None\n",
    "\n",
    "split_intervals_max = pd.DataFrame(columns=['chrom', 'start', 'end', 'length'])\n",
    "interval_list_df.loc[interval_list_df[interval_length_max], ['chrom', 'start', 'end', 'length']].apply(lambda row: new_intervals(row, interval_length_max), axis=1)\n",
    "print(len(split_intervals_max))"
   ]
  },
  {
   "cell_type": "code",
   "execution_count": 21,
   "id": "0c325534-7995-4c01-848f-0dd2ef4d5254",
   "metadata": {},
   "outputs": [
    {
     "name": "stdout",
     "output_type": "stream",
     "text": [
      "3769\n"
     ]
    }
   ],
   "source": [
    "# Step 3: Merge shorter and split intervals\n",
    "\n",
    "intervals_max = pd.concat([intervals_max, split_intervals_max], axis=0)\n",
    "intervals_max.sort_values(by=['chrom', 'start'], inplace=True)\n",
    "intervals_max.reset_index(drop=True)\n",
    "print(len(intervals_max))\n",
    "\n",
    "# Save to file\n",
    "fname = (f\"capture_merged10_split{interval_length_max}.bed\")\n",
    "intervals_max.to_csv(fname, sep='\\t', index=False, header=False, columns=['chrom', 'start', 'end'])"
   ]
  }
 ],
 "metadata": {
  "kernelspec": {
   "display_name": "Python 3",
   "language": "python",
   "name": "python3"
  },
  "language_info": {
   "codemirror_mode": {
    "name": "ipython",
    "version": 3
   },
   "file_extension": ".py",
   "mimetype": "text/x-python",
   "name": "python",
   "nbconvert_exporter": "python",
   "pygments_lexer": "ipython3",
   "version": "3.6.9"
  }
 },
 "nbformat": 4,
 "nbformat_minor": 5
}
