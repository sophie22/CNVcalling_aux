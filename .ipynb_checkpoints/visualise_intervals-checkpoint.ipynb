{
 "cells": [
  {
   "cell_type": "code",
   "execution_count": 1,
   "id": "785496a7",
   "metadata": {},
   "outputs": [],
   "source": [
    "import sys\n",
    "import pandas as pd\n",
    "import matplotlib.pyplot as plt\n",
    "import seaborn as sns; sns.set()"
   ]
  },
  {
   "cell_type": "markdown",
   "id": "efa06bc0-0f3a-4d9c-ba36-dc244d4e7b5c",
   "metadata": {
    "tags": []
   },
   "source": [
    "## Load bed file regions into DataFrame"
   ]
  },
  {
   "cell_type": "code",
   "execution_count": 2,
   "id": "f4600717",
   "metadata": {},
   "outputs": [
    {
     "name": "stdout",
     "output_type": "stream",
     "text": [
      "2685\n"
     ]
    }
   ],
   "source": [
    "inFile = \"capture_based/capture_merged10_split500.bed\" # merge -d 10 capture bed\n",
    "intervals_df = pd.read_csv(inFile, sep='\\t', names=['chrom', 'start', 'end'])\n",
    "print(len(intervals_df))"
   ]
  },
  {
   "cell_type": "code",
   "execution_count": 4,
   "id": "90764cc3",
   "metadata": {},
   "outputs": [
    {
     "name": "stdout",
     "output_type": "stream",
     "text": [
      "['1', '10', '11', '12', '13', '14', '15', '16', '17', '18', '19', '2', '20', '21', '22', '3', '4', '5', '6', '7', '8', '9', 'X']\n"
     ]
    }
   ],
   "source": [
    "chroms = intervals_df['chrom'].unique().tolist()\n",
    "print(chroms)"
   ]
  },
  {
   "cell_type": "code",
   "execution_count": 5,
   "id": "0c0d91cf-5819-465e-b98f-ab1f2c208950",
   "metadata": {},
   "outputs": [],
   "source": [
    "intervals_df['length'] = intervals_df['end'] - intervals_df['start']"
   ]
  },
  {
   "cell_type": "code",
   "execution_count": 6,
   "id": "ca364bf0-241f-43fa-9b30-758aeefcccc8",
   "metadata": {},
   "outputs": [
    {
     "data": {
      "text/html": [
       "<div>\n",
       "<style scoped>\n",
       "    .dataframe tbody tr th:only-of-type {\n",
       "        vertical-align: middle;\n",
       "    }\n",
       "\n",
       "    .dataframe tbody tr th {\n",
       "        vertical-align: top;\n",
       "    }\n",
       "\n",
       "    .dataframe thead th {\n",
       "        text-align: right;\n",
       "    }\n",
       "</style>\n",
       "<table border=\"1\" class=\"dataframe\">\n",
       "  <thead>\n",
       "    <tr style=\"text-align: right;\">\n",
       "      <th></th>\n",
       "      <th>chrom</th>\n",
       "      <th>start</th>\n",
       "      <th>end</th>\n",
       "      <th>length</th>\n",
       "    </tr>\n",
       "  </thead>\n",
       "  <tbody>\n",
       "    <tr>\n",
       "      <th>0</th>\n",
       "      <td>1</td>\n",
       "      <td>7917093</td>\n",
       "      <td>7917213</td>\n",
       "      <td>120</td>\n",
       "    </tr>\n",
       "    <tr>\n",
       "      <th>1</th>\n",
       "      <td>1</td>\n",
       "      <td>17345175</td>\n",
       "      <td>17345483</td>\n",
       "      <td>308</td>\n",
       "    </tr>\n",
       "    <tr>\n",
       "      <th>2</th>\n",
       "      <td>1</td>\n",
       "      <td>17348948</td>\n",
       "      <td>17349280</td>\n",
       "      <td>332</td>\n",
       "    </tr>\n",
       "    <tr>\n",
       "      <th>3</th>\n",
       "      <td>1</td>\n",
       "      <td>17350437</td>\n",
       "      <td>17350599</td>\n",
       "      <td>162</td>\n",
       "    </tr>\n",
       "    <tr>\n",
       "      <th>4</th>\n",
       "      <td>1</td>\n",
       "      <td>17354213</td>\n",
       "      <td>17354390</td>\n",
       "      <td>177</td>\n",
       "    </tr>\n",
       "  </tbody>\n",
       "</table>\n",
       "</div>"
      ],
      "text/plain": [
       "  chrom     start       end  length\n",
       "0     1   7917093   7917213     120\n",
       "1     1  17345175  17345483     308\n",
       "2     1  17348948  17349280     332\n",
       "3     1  17350437  17350599     162\n",
       "4     1  17354213  17354390     177"
      ]
     },
     "execution_count": 6,
     "metadata": {},
     "output_type": "execute_result"
    }
   ],
   "source": [
    "intervals_df.head()"
   ]
  },
  {
   "cell_type": "code",
   "execution_count": 7,
   "id": "1af25446",
   "metadata": {},
   "outputs": [
    {
     "name": "stdout",
     "output_type": "stream",
     "text": [
      "2685\n",
      "2685\n"
     ]
    }
   ],
   "source": [
    "dist_list = []\n",
    "for chrom in chroms:\n",
    "    dist_list.append(0)\n",
    "    chrom_ints = intervals_df[intervals_df['chrom'] == chrom]\n",
    "    chrom_starts = chrom_ints['start'].to_list()[1:]\n",
    "    chrom_ends = chrom_ints['end'].to_list()[:-1]\n",
    "    for i in range(len(chrom_starts)):\n",
    "        dist_list.append(chrom_starts[i] - chrom_ends[i])\n",
    "\n",
    "print(len(dist_list))\n",
    "print(len(intervals_df))\n",
    "\n",
    "if len(dist_list) == len(intervals_df):\n",
    "    intervals_df['dist_before'] = dist_list\n",
    "    dist_after = dist_list[1:].copy()\n",
    "    dist_after.append(0) # returns None, happens inplace\n",
    "    intervals_df['dist_after'] = dist_after"
   ]
  },
  {
   "cell_type": "code",
   "execution_count": 8,
   "id": "06edb4b5-7de0-457e-9e65-610fcefc17b0",
   "metadata": {},
   "outputs": [
    {
     "data": {
      "text/html": [
       "<div>\n",
       "<style scoped>\n",
       "    .dataframe tbody tr th:only-of-type {\n",
       "        vertical-align: middle;\n",
       "    }\n",
       "\n",
       "    .dataframe tbody tr th {\n",
       "        vertical-align: top;\n",
       "    }\n",
       "\n",
       "    .dataframe thead th {\n",
       "        text-align: right;\n",
       "    }\n",
       "</style>\n",
       "<table border=\"1\" class=\"dataframe\">\n",
       "  <thead>\n",
       "    <tr style=\"text-align: right;\">\n",
       "      <th></th>\n",
       "      <th>chrom</th>\n",
       "      <th>start</th>\n",
       "      <th>end</th>\n",
       "      <th>length</th>\n",
       "      <th>dist_before</th>\n",
       "      <th>dist_after</th>\n",
       "    </tr>\n",
       "  </thead>\n",
       "  <tbody>\n",
       "    <tr>\n",
       "      <th>0</th>\n",
       "      <td>1</td>\n",
       "      <td>7917093</td>\n",
       "      <td>7917213</td>\n",
       "      <td>120</td>\n",
       "      <td>0</td>\n",
       "      <td>9427962</td>\n",
       "    </tr>\n",
       "    <tr>\n",
       "      <th>1</th>\n",
       "      <td>1</td>\n",
       "      <td>17345175</td>\n",
       "      <td>17345483</td>\n",
       "      <td>308</td>\n",
       "      <td>9427962</td>\n",
       "      <td>3465</td>\n",
       "    </tr>\n",
       "    <tr>\n",
       "      <th>2</th>\n",
       "      <td>1</td>\n",
       "      <td>17348948</td>\n",
       "      <td>17349280</td>\n",
       "      <td>332</td>\n",
       "      <td>3465</td>\n",
       "      <td>1157</td>\n",
       "    </tr>\n",
       "    <tr>\n",
       "      <th>3</th>\n",
       "      <td>1</td>\n",
       "      <td>17350437</td>\n",
       "      <td>17350599</td>\n",
       "      <td>162</td>\n",
       "      <td>1157</td>\n",
       "      <td>3614</td>\n",
       "    </tr>\n",
       "    <tr>\n",
       "      <th>4</th>\n",
       "      <td>1</td>\n",
       "      <td>17354213</td>\n",
       "      <td>17354390</td>\n",
       "      <td>177</td>\n",
       "      <td>3614</td>\n",
       "      <td>674</td>\n",
       "    </tr>\n",
       "    <tr>\n",
       "      <th>5</th>\n",
       "      <td>1</td>\n",
       "      <td>17355064</td>\n",
       "      <td>17355261</td>\n",
       "      <td>197</td>\n",
       "      <td>674</td>\n",
       "      <td>4263</td>\n",
       "    </tr>\n",
       "    <tr>\n",
       "      <th>6</th>\n",
       "      <td>1</td>\n",
       "      <td>17359524</td>\n",
       "      <td>17359670</td>\n",
       "      <td>146</td>\n",
       "      <td>4263</td>\n",
       "      <td>11555</td>\n",
       "    </tr>\n",
       "    <tr>\n",
       "      <th>7</th>\n",
       "      <td>1</td>\n",
       "      <td>17371225</td>\n",
       "      <td>17371413</td>\n",
       "      <td>188</td>\n",
       "      <td>11555</td>\n",
       "      <td>8938</td>\n",
       "    </tr>\n",
       "    <tr>\n",
       "      <th>8</th>\n",
       "      <td>1</td>\n",
       "      <td>17380351</td>\n",
       "      <td>17380714</td>\n",
       "      <td>363</td>\n",
       "      <td>8938</td>\n",
       "      <td>8489275</td>\n",
       "    </tr>\n",
       "    <tr>\n",
       "      <th>9</th>\n",
       "      <td>1</td>\n",
       "      <td>25869989</td>\n",
       "      <td>25870307</td>\n",
       "      <td>318</td>\n",
       "      <td>8489275</td>\n",
       "      <td>10075</td>\n",
       "    </tr>\n",
       "  </tbody>\n",
       "</table>\n",
       "</div>"
      ],
      "text/plain": [
       "  chrom     start       end  length  dist_before  dist_after\n",
       "0     1   7917093   7917213     120            0     9427962\n",
       "1     1  17345175  17345483     308      9427962        3465\n",
       "2     1  17348948  17349280     332         3465        1157\n",
       "3     1  17350437  17350599     162         1157        3614\n",
       "4     1  17354213  17354390     177         3614         674\n",
       "5     1  17355064  17355261     197          674        4263\n",
       "6     1  17359524  17359670     146         4263       11555\n",
       "7     1  17371225  17371413     188        11555        8938\n",
       "8     1  17380351  17380714     363         8938     8489275\n",
       "9     1  25869989  25870307     318      8489275       10075"
      ]
     },
     "execution_count": 8,
     "metadata": {},
     "output_type": "execute_result"
    }
   ],
   "source": [
    "intervals_df.iloc[:10]"
   ]
  },
  {
   "cell_type": "markdown",
   "id": "4d2600e9",
   "metadata": {
    "tags": []
   },
   "source": [
    "## Define lengths, ditances"
   ]
  },
  {
   "cell_type": "code",
   "execution_count": 11,
   "id": "d1eb7b8d",
   "metadata": {},
   "outputs": [
    {
     "name": "stdout",
     "output_type": "stream",
     "text": [
      "2\n",
      "255.33296089385476\n",
      "500\n"
     ]
    }
   ],
   "source": [
    "print(intervals_df['length'].min())\n",
    "print(intervals_df['length'].mean())\n",
    "print(intervals_df['length'].max())"
   ]
  },
  {
   "cell_type": "code",
   "execution_count": 9,
   "id": "f8cdead8-818a-4bc7-929f-f047c9d8774c",
   "metadata": {},
   "outputs": [
    {
     "name": "stdout",
     "output_type": "stream",
     "text": [
      "0\n",
      "833875.1832402234\n",
      "75040058\n"
     ]
    }
   ],
   "source": [
    "print(intervals_df['dist_before'].min())\n",
    "print(intervals_df['dist_before'].mean())\n",
    "print(intervals_df['dist_before'].max())"
   ]
  },
  {
   "cell_type": "code",
   "execution_count": 10,
   "id": "6b59a193-c332-4eed-b2d8-8699a473b945",
   "metadata": {},
   "outputs": [
    {
     "name": "stdout",
     "output_type": "stream",
     "text": [
      "0\n",
      "833875.1832402234\n",
      "75040058\n"
     ]
    }
   ],
   "source": [
    "print(intervals_df['dist_after'].min())\n",
    "print(intervals_df['dist_after'].mean())\n",
    "print(intervals_df['dist_after'].max())"
   ]
  },
  {
   "cell_type": "code",
   "execution_count": 27,
   "id": "44e87f57-b676-4e61-9cb2-75f7c9c42b05",
   "metadata": {},
   "outputs": [
    {
     "data": {
      "text/html": [
       "<div>\n",
       "<style scoped>\n",
       "    .dataframe tbody tr th:only-of-type {\n",
       "        vertical-align: middle;\n",
       "    }\n",
       "\n",
       "    .dataframe tbody tr th {\n",
       "        vertical-align: top;\n",
       "    }\n",
       "\n",
       "    .dataframe thead th {\n",
       "        text-align: right;\n",
       "    }\n",
       "</style>\n",
       "<table border=\"1\" class=\"dataframe\">\n",
       "  <thead>\n",
       "    <tr style=\"text-align: right;\">\n",
       "      <th></th>\n",
       "      <th>chrom</th>\n",
       "      <th>start</th>\n",
       "      <th>end</th>\n",
       "      <th>dist_before</th>\n",
       "      <th>dist_after</th>\n",
       "    </tr>\n",
       "    <tr>\n",
       "      <th>length</th>\n",
       "      <th></th>\n",
       "      <th></th>\n",
       "      <th></th>\n",
       "      <th></th>\n",
       "      <th></th>\n",
       "    </tr>\n",
       "  </thead>\n",
       "  <tbody>\n",
       "    <tr>\n",
       "      <th>2</th>\n",
       "      <td>5</td>\n",
       "      <td>5</td>\n",
       "      <td>5</td>\n",
       "      <td>5</td>\n",
       "      <td>5</td>\n",
       "    </tr>\n",
       "    <tr>\n",
       "      <th>3</th>\n",
       "      <td>6</td>\n",
       "      <td>6</td>\n",
       "      <td>6</td>\n",
       "      <td>6</td>\n",
       "      <td>6</td>\n",
       "    </tr>\n",
       "    <tr>\n",
       "      <th>4</th>\n",
       "      <td>2</td>\n",
       "      <td>2</td>\n",
       "      <td>2</td>\n",
       "      <td>2</td>\n",
       "      <td>2</td>\n",
       "    </tr>\n",
       "    <tr>\n",
       "      <th>5</th>\n",
       "      <td>5</td>\n",
       "      <td>5</td>\n",
       "      <td>5</td>\n",
       "      <td>5</td>\n",
       "      <td>5</td>\n",
       "    </tr>\n",
       "    <tr>\n",
       "      <th>6</th>\n",
       "      <td>6</td>\n",
       "      <td>6</td>\n",
       "      <td>6</td>\n",
       "      <td>6</td>\n",
       "      <td>6</td>\n",
       "    </tr>\n",
       "    <tr>\n",
       "      <th>7</th>\n",
       "      <td>4</td>\n",
       "      <td>4</td>\n",
       "      <td>4</td>\n",
       "      <td>4</td>\n",
       "      <td>4</td>\n",
       "    </tr>\n",
       "    <tr>\n",
       "      <th>8</th>\n",
       "      <td>4</td>\n",
       "      <td>4</td>\n",
       "      <td>4</td>\n",
       "      <td>4</td>\n",
       "      <td>4</td>\n",
       "    </tr>\n",
       "    <tr>\n",
       "      <th>10</th>\n",
       "      <td>3</td>\n",
       "      <td>3</td>\n",
       "      <td>3</td>\n",
       "      <td>3</td>\n",
       "      <td>3</td>\n",
       "    </tr>\n",
       "    <tr>\n",
       "      <th>11</th>\n",
       "      <td>3</td>\n",
       "      <td>3</td>\n",
       "      <td>3</td>\n",
       "      <td>3</td>\n",
       "      <td>3</td>\n",
       "    </tr>\n",
       "    <tr>\n",
       "      <th>12</th>\n",
       "      <td>1</td>\n",
       "      <td>1</td>\n",
       "      <td>1</td>\n",
       "      <td>1</td>\n",
       "      <td>1</td>\n",
       "    </tr>\n",
       "    <tr>\n",
       "      <th>14</th>\n",
       "      <td>1</td>\n",
       "      <td>1</td>\n",
       "      <td>1</td>\n",
       "      <td>1</td>\n",
       "      <td>1</td>\n",
       "    </tr>\n",
       "    <tr>\n",
       "      <th>15</th>\n",
       "      <td>1</td>\n",
       "      <td>1</td>\n",
       "      <td>1</td>\n",
       "      <td>1</td>\n",
       "      <td>1</td>\n",
       "    </tr>\n",
       "    <tr>\n",
       "      <th>19</th>\n",
       "      <td>1</td>\n",
       "      <td>1</td>\n",
       "      <td>1</td>\n",
       "      <td>1</td>\n",
       "      <td>1</td>\n",
       "    </tr>\n",
       "    <tr>\n",
       "      <th>22</th>\n",
       "      <td>1</td>\n",
       "      <td>1</td>\n",
       "      <td>1</td>\n",
       "      <td>1</td>\n",
       "      <td>1</td>\n",
       "    </tr>\n",
       "    <tr>\n",
       "      <th>25</th>\n",
       "      <td>1</td>\n",
       "      <td>1</td>\n",
       "      <td>1</td>\n",
       "      <td>1</td>\n",
       "      <td>1</td>\n",
       "    </tr>\n",
       "    <tr>\n",
       "      <th>28</th>\n",
       "      <td>1</td>\n",
       "      <td>1</td>\n",
       "      <td>1</td>\n",
       "      <td>1</td>\n",
       "      <td>1</td>\n",
       "    </tr>\n",
       "    <tr>\n",
       "      <th>72</th>\n",
       "      <td>1</td>\n",
       "      <td>1</td>\n",
       "      <td>1</td>\n",
       "      <td>1</td>\n",
       "      <td>1</td>\n",
       "    </tr>\n",
       "    <tr>\n",
       "      <th>81</th>\n",
       "      <td>1</td>\n",
       "      <td>1</td>\n",
       "      <td>1</td>\n",
       "      <td>1</td>\n",
       "      <td>1</td>\n",
       "    </tr>\n",
       "    <tr>\n",
       "      <th>84</th>\n",
       "      <td>3</td>\n",
       "      <td>3</td>\n",
       "      <td>3</td>\n",
       "      <td>3</td>\n",
       "      <td>3</td>\n",
       "    </tr>\n",
       "    <tr>\n",
       "      <th>87</th>\n",
       "      <td>2</td>\n",
       "      <td>2</td>\n",
       "      <td>2</td>\n",
       "      <td>2</td>\n",
       "      <td>2</td>\n",
       "    </tr>\n",
       "  </tbody>\n",
       "</table>\n",
       "</div>"
      ],
      "text/plain": [
       "        chrom  start  end  dist_before  dist_after\n",
       "length                                            \n",
       "2           5      5    5            5           5\n",
       "3           6      6    6            6           6\n",
       "4           2      2    2            2           2\n",
       "5           5      5    5            5           5\n",
       "6           6      6    6            6           6\n",
       "7           4      4    4            4           4\n",
       "8           4      4    4            4           4\n",
       "10          3      3    3            3           3\n",
       "11          3      3    3            3           3\n",
       "12          1      1    1            1           1\n",
       "14          1      1    1            1           1\n",
       "15          1      1    1            1           1\n",
       "19          1      1    1            1           1\n",
       "22          1      1    1            1           1\n",
       "25          1      1    1            1           1\n",
       "28          1      1    1            1           1\n",
       "72          1      1    1            1           1\n",
       "81          1      1    1            1           1\n",
       "84          3      3    3            3           3\n",
       "87          2      2    2            2           2"
      ]
     },
     "execution_count": 27,
     "metadata": {},
     "output_type": "execute_result"
    }
   ],
   "source": [
    "intervals_df.groupby('length').count()[:20]"
   ]
  },
  {
   "cell_type": "code",
   "execution_count": 28,
   "id": "7c26f81b-1a4e-442c-9316-99cb1f54b8a0",
   "metadata": {},
   "outputs": [
    {
     "data": {
      "text/html": [
       "<div>\n",
       "<style scoped>\n",
       "    .dataframe tbody tr th:only-of-type {\n",
       "        vertical-align: middle;\n",
       "    }\n",
       "\n",
       "    .dataframe tbody tr th {\n",
       "        vertical-align: top;\n",
       "    }\n",
       "\n",
       "    .dataframe thead th {\n",
       "        text-align: right;\n",
       "    }\n",
       "</style>\n",
       "<table border=\"1\" class=\"dataframe\">\n",
       "  <thead>\n",
       "    <tr style=\"text-align: right;\">\n",
       "      <th></th>\n",
       "      <th>chrom</th>\n",
       "      <th>start</th>\n",
       "      <th>end</th>\n",
       "      <th>dist_before</th>\n",
       "      <th>dist_after</th>\n",
       "    </tr>\n",
       "    <tr>\n",
       "      <th>length</th>\n",
       "      <th></th>\n",
       "      <th></th>\n",
       "      <th></th>\n",
       "      <th></th>\n",
       "      <th></th>\n",
       "    </tr>\n",
       "  </thead>\n",
       "  <tbody>\n",
       "    <tr>\n",
       "      <th>487</th>\n",
       "      <td>3</td>\n",
       "      <td>3</td>\n",
       "      <td>3</td>\n",
       "      <td>3</td>\n",
       "      <td>3</td>\n",
       "    </tr>\n",
       "    <tr>\n",
       "      <th>488</th>\n",
       "      <td>10</td>\n",
       "      <td>10</td>\n",
       "      <td>10</td>\n",
       "      <td>10</td>\n",
       "      <td>10</td>\n",
       "    </tr>\n",
       "    <tr>\n",
       "      <th>489</th>\n",
       "      <td>5</td>\n",
       "      <td>5</td>\n",
       "      <td>5</td>\n",
       "      <td>5</td>\n",
       "      <td>5</td>\n",
       "    </tr>\n",
       "    <tr>\n",
       "      <th>490</th>\n",
       "      <td>4</td>\n",
       "      <td>4</td>\n",
       "      <td>4</td>\n",
       "      <td>4</td>\n",
       "      <td>4</td>\n",
       "    </tr>\n",
       "    <tr>\n",
       "      <th>491</th>\n",
       "      <td>4</td>\n",
       "      <td>4</td>\n",
       "      <td>4</td>\n",
       "      <td>4</td>\n",
       "      <td>4</td>\n",
       "    </tr>\n",
       "    <tr>\n",
       "      <th>492</th>\n",
       "      <td>1</td>\n",
       "      <td>1</td>\n",
       "      <td>1</td>\n",
       "      <td>1</td>\n",
       "      <td>1</td>\n",
       "    </tr>\n",
       "    <tr>\n",
       "      <th>494</th>\n",
       "      <td>1</td>\n",
       "      <td>1</td>\n",
       "      <td>1</td>\n",
       "      <td>1</td>\n",
       "      <td>1</td>\n",
       "    </tr>\n",
       "    <tr>\n",
       "      <th>498</th>\n",
       "      <td>22</td>\n",
       "      <td>22</td>\n",
       "      <td>22</td>\n",
       "      <td>22</td>\n",
       "      <td>22</td>\n",
       "    </tr>\n",
       "    <tr>\n",
       "      <th>499</th>\n",
       "      <td>52</td>\n",
       "      <td>52</td>\n",
       "      <td>52</td>\n",
       "      <td>52</td>\n",
       "      <td>52</td>\n",
       "    </tr>\n",
       "    <tr>\n",
       "      <th>500</th>\n",
       "      <td>6</td>\n",
       "      <td>6</td>\n",
       "      <td>6</td>\n",
       "      <td>6</td>\n",
       "      <td>6</td>\n",
       "    </tr>\n",
       "  </tbody>\n",
       "</table>\n",
       "</div>"
      ],
      "text/plain": [
       "        chrom  start  end  dist_before  dist_after\n",
       "length                                            \n",
       "487         3      3    3            3           3\n",
       "488        10     10   10           10          10\n",
       "489         5      5    5            5           5\n",
       "490         4      4    4            4           4\n",
       "491         4      4    4            4           4\n",
       "492         1      1    1            1           1\n",
       "494         1      1    1            1           1\n",
       "498        22     22   22           22          22\n",
       "499        52     52   52           52          52\n",
       "500         6      6    6            6           6"
      ]
     },
     "execution_count": 28,
     "metadata": {},
     "output_type": "execute_result"
    }
   ],
   "source": [
    "intervals_df.groupby('length').count()[-10:]"
   ]
  },
  {
   "cell_type": "markdown",
   "id": "d2f137b8-34c9-401f-bb4b-fcf27cd1e0c9",
   "metadata": {
    "tags": []
   },
   "source": [
    "## Visualise intervals"
   ]
  },
  {
   "cell_type": "code",
   "execution_count": 12,
   "id": "ba1197c8",
   "metadata": {},
   "outputs": [
    {
     "name": "stderr",
     "output_type": "stream",
     "text": [
      "/home/sophier/.local/lib/python3.6/site-packages/seaborn/distributions.py:2619: FutureWarning: `distplot` is a deprecated function and will be removed in a future version. Please adapt your code to use either `displot` (a figure-level function with similar flexibility) or `histplot` (an axes-level function for histograms).\n",
      "  warnings.warn(msg, FutureWarning)\n"
     ]
    },
    {
     "data": {
      "text/plain": [
       "Text(0.5, 0, 'size (b)')"
      ]
     },
     "execution_count": 12,
     "metadata": {},
     "output_type": "execute_result"
    },
    {
     "data": {
      "image/png": "[encoded data removed]",
      "text/plain": [
       "<Figure size 504x360 with 1 Axes>"
      ]
     },
     "metadata": {},
     "output_type": "display_data"
    }
   ],
   "source": [
    "f, ax = plt.subplots(figsize=(7, 5))\n",
    "\n",
    "sns.distplot(intervals_df['length'], ax=ax, kde=False)\n",
    "\n",
    "ax.set_title('Interval lengths', fontsize = 18)\n",
    "ax.set_ylabel('counts', fontsize=18)\n",
    "ax.set_xlabel('size (b)', fontsize = 18)\n"
   ]
  },
  {
   "cell_type": "code",
   "execution_count": 15,
   "id": "e319c19b-8da1-4d11-bac9-00562724b4a9",
   "metadata": {},
   "outputs": [
    {
     "name": "stderr",
     "output_type": "stream",
     "text": [
      "/home/sophier/.local/lib/python3.6/site-packages/seaborn/_decorators.py:43: FutureWarning: Pass the following variable as a keyword arg: x. From version 0.12, the only valid positional argument will be `data`, and passing other arguments without an explicit keyword will result in an error or misinterpretation.\n",
      "  FutureWarning\n"
     ]
    },
    {
     "data": {
      "text/plain": [
       "Text(0.5, 0, 'size (b)')"
      ]
     },
     "execution_count": 15,
     "metadata": {},
     "output_type": "execute_result"
    },
    {
     "data": {
      "image/png": "[encoded data removed]",
      "text/plain": [
       "<Figure size 504x360 with 1 Axes>"
      ]
     },
     "metadata": {},
     "output_type": "display_data"
    }
   ],
   "source": [
    "f, ax = plt.subplots(figsize=(7, 5))\n",
    "\n",
    "sns.countplot(intervals_df.loc[intervals_df['length'] < 100, 'length'], ax=ax)\n",
    "\n",
    "ax.set_title('Interval lengths', fontsize = 18)\n",
    "ax.set_ylabel('counts', fontsize=18)\n",
    "ax.set_xlabel('size (b)', fontsize = 18)\n"
   ]
  },
  {
   "cell_type": "code",
   "execution_count": 24,
   "id": "a8f6ba68",
   "metadata": {},
   "outputs": [
    {
     "name": "stderr",
     "output_type": "stream",
     "text": [
      "/home/sophier/.local/lib/python3.6/site-packages/seaborn/distributions.py:2619: FutureWarning: `distplot` is a deprecated function and will be removed in a future version. Please adapt your code to use either `displot` (a figure-level function with similar flexibility) or `histplot` (an axes-level function for histograms).\n",
      "  warnings.warn(msg, FutureWarning)\n"
     ]
    },
    {
     "data": {
      "image/png": "[encoded data removed]",
      "text/plain": [
       "<Figure size 720x504 with 1 Axes>"
      ]
     },
     "metadata": {},
     "output_type": "display_data"
    }
   ],
   "source": [
    "f, ax = plt.subplots(figsize=(10,7))\n",
    "\n",
    "sns.distplot(intervals_df.loc[(intervals_df['dist_before'] != 0) & (intervals_df['dist_before'] < 50), 'dist_before'], ax=ax, kde=False)\n",
    "\n",
    "ax.set_title('Distance before', fontsize = 18)\n",
    "ax.set_ylabel('counts', fontsize=18)\n",
    "ax.set_xlabel('size (b)', fontsize = 18)\n",
    "\n",
    "plt.show()"
   ]
  },
  {
   "cell_type": "code",
   "execution_count": 25,
   "id": "7facc68a-fce2-48ef-bbcd-abd3e558ae25",
   "metadata": {},
   "outputs": [
    {
     "name": "stderr",
     "output_type": "stream",
     "text": [
      "/home/sophier/.local/lib/python3.6/site-packages/seaborn/distributions.py:2619: FutureWarning: `distplot` is a deprecated function and will be removed in a future version. Please adapt your code to use either `displot` (a figure-level function with similar flexibility) or `histplot` (an axes-level function for histograms).\n",
      "  warnings.warn(msg, FutureWarning)\n"
     ]
    },
    {
     "data": {
      "image/png": "[encoded data removed]",
      "text/plain": [
       "<Figure size 720x504 with 1 Axes>"
      ]
     },
     "metadata": {},
     "output_type": "display_data"
    }
   ],
   "source": [
    "f, ax = plt.subplots(figsize=(10,7))\n",
    "\n",
    "sns.distplot(intervals_df.loc[(intervals_df['dist_after'] != 0) & (intervals_df['dist_after'] < 50), 'dist_after'], ax=ax, kde=False)\n",
    "\n",
    "ax.set_title('Distance after', fontsize = 18)\n",
    "ax.set_ylabel('counts', fontsize=18)\n",
    "ax.set_xlabel('size (b)', fontsize = 18)\n",
    "\n",
    "plt.show()"
   ]
  },
  {
   "cell_type": "code",
   "execution_count": null,
   "id": "19d7b704-7ee4-4495-8ace-78c4ccc82911",
   "metadata": {},
   "outputs": [],
   "source": []
  }
 ],
 "metadata": {
  "kernelspec": {
   "display_name": "Python 3",
   "language": "python",
   "name": "python3"
  },
  "language_info": {
   "codemirror_mode": {
    "name": "ipython",
    "version": 3
   },
   "file_extension": ".py",
   "mimetype": "text/x-python",
   "name": "python",
   "nbconvert_exporter": "python",
   "pygments_lexer": "ipython3",
   "version": "3.6.9"
  }
 },
 "nbformat": 4,
 "nbformat_minor": 5
}
