{
 "cells": [
  {
   "cell_type": "code",
   "execution_count": 1,
   "id": "785496a7",
   "metadata": {},
   "outputs": [],
   "source": [
    "import sys\n",
    "import pandas as pd\n",
    "import matplotlib.pyplot as plt\n",
    "import seaborn as sns; sns.set()\n",
    "\n",
    "interval_length_min = 50\n",
    "interval_length_max = 100\n",
    "interval_length_max2 = 160\n",
    "interval_length_max3 = 500"
   ]
  },
  {
   "cell_type": "markdown",
   "id": "efa06bc0-0f3a-4d9c-ba36-dc244d4e7b5c",
   "metadata": {
    "jp-MarkdownHeadingCollapsed": true,
    "tags": []
   },
   "source": [
    "## Load bed file regions into DataFrame"
   ]
  },
  {
   "cell_type": "code",
   "execution_count": 2,
   "id": "f4600717",
   "metadata": {},
   "outputs": [
    {
     "name": "stdout",
     "output_type": "stream",
     "text": [
      "3014\n"
     ]
    }
   ],
   "source": [
    "inFile = \"merged10_capture.bed\" # merge -d 10 capture bed\n",
    "intervals_df = pd.read_csv(inFile, sep='\\t', names=['chrom', 'start', 'end', 'length'], low_memory=False)\n",
    "print(len(intervals_df))"
   ]
  },
  {
   "cell_type": "raw",
   "id": "518dab23-8664-4350-8081-5000c8f67436",
   "metadata": {},
   "source": [
    "intervals_df.dtypes"
   ]
  },
  {
   "cell_type": "raw",
   "id": "31d92da3-851c-49bc-827d-9cd2009be70b",
   "metadata": {},
   "source": [
    "intervals_df.head()"
   ]
  },
  {
   "cell_type": "code",
   "execution_count": 3,
   "id": "90764cc3",
   "metadata": {},
   "outputs": [
    {
     "name": "stdout",
     "output_type": "stream",
     "text": [
      "['1', '2', '3', '4', '5', '6', '7', '8', '9', '10', '11', '12', '13', '14', '15', '16', '17', '18', '19', '20', '21', '22', 'X']\n"
     ]
    }
   ],
   "source": [
    "chroms = intervals_df['chrom'].unique().tolist()\n",
    "print(chroms)"
   ]
  },
  {
   "cell_type": "raw",
   "id": "5f0d99b6-02fc-45cd-a08d-4620d65f04f5",
   "metadata": {},
   "source": [
    "intervals_df[intervals_df['chrom'].isin([ 'GL000237.1', 'GL000220.1', 'GL000217.1', 'hs37d5'])]"
   ]
  },
  {
   "cell_type": "code",
   "execution_count": 4,
   "id": "8a0f6e77",
   "metadata": {},
   "outputs": [],
   "source": [
    "# chroms = ['1', '2', '3', '4', '5', '6', '7', '8', '9', '10', '11', '12', '13', '14', '15', '16', '17', '18', '19', '20', '21', '22', 'X', 'Y']\n",
    "# intervals_df['length'] = intervals_df['end'] - intervals_df['start']"
   ]
  },
  {
   "cell_type": "code",
   "execution_count": 5,
   "id": "1af25446",
   "metadata": {},
   "outputs": [
    {
     "name": "stdout",
     "output_type": "stream",
     "text": [
      "3014\n",
      "3014\n"
     ]
    }
   ],
   "source": [
    "dist_list = []\n",
    "for chrom in chroms:\n",
    "    dist_list.append(0)\n",
    "    chrom_ints = intervals_df[intervals_df['chrom'] == chrom]\n",
    "    chrom_starts = chrom_ints['start'].to_list()[1:]\n",
    "    chrom_ends = chrom_ints['end'].to_list()[:-1]\n",
    "    for i in range(len(chrom_starts)):\n",
    "        dist_list.append(chrom_starts[i] - chrom_ends[i])\n",
    "\n",
    "print(len(dist_list))\n",
    "print(len(intervals_df))"
   ]
  },
  {
   "cell_type": "code",
   "execution_count": 6,
   "id": "babc446e",
   "metadata": {},
   "outputs": [],
   "source": [
    "# interval_list_df = intervals_df[intervals_df['chrom'].isin(chroms)]\n",
    "intervals_df['dist_before'] = dist_list\n",
    "dist_after = dist_list[1:].copy()\n",
    "dist_after.append(0) # returns None, happens inplace\n",
    "intervals_df['dist_after'] = dist_after\n",
    "# intervals_df"
   ]
  },
  {
   "cell_type": "raw",
   "id": "5a339a08-19ea-468f-a7cf-274d8e3e2e4a",
   "metadata": {},
   "source": [
    "intervals_df.iloc[:20]"
   ]
  },
  {
   "cell_type": "code",
   "execution_count": 7,
   "id": "8ab6f619-0bdc-4d6c-8619-46b9902df403",
   "metadata": {},
   "outputs": [
    {
     "data": {
      "text/html": [
       "<div>\n",
       "<style scoped>\n",
       "    .dataframe tbody tr th:only-of-type {\n",
       "        vertical-align: middle;\n",
       "    }\n",
       "\n",
       "    .dataframe tbody tr th {\n",
       "        vertical-align: top;\n",
       "    }\n",
       "\n",
       "    .dataframe thead th {\n",
       "        text-align: right;\n",
       "    }\n",
       "</style>\n",
       "<table border=\"1\" class=\"dataframe\">\n",
       "  <thead>\n",
       "    <tr style=\"text-align: right;\">\n",
       "      <th></th>\n",
       "      <th>chrom</th>\n",
       "      <th>start</th>\n",
       "      <th>end</th>\n",
       "      <th>length</th>\n",
       "      <th>dist_before</th>\n",
       "      <th>dist_after</th>\n",
       "    </tr>\n",
       "  </thead>\n",
       "  <tbody>\n",
       "    <tr>\n",
       "      <th>1</th>\n",
       "      <td>1</td>\n",
       "      <td>7917093</td>\n",
       "      <td>7917213</td>\n",
       "      <td>120</td>\n",
       "      <td>17</td>\n",
       "      <td>2649001</td>\n",
       "    </tr>\n",
       "    <tr>\n",
       "      <th>3</th>\n",
       "      <td>1</td>\n",
       "      <td>17345175</td>\n",
       "      <td>17345483</td>\n",
       "      <td>308</td>\n",
       "      <td>6778960</td>\n",
       "      <td>3465</td>\n",
       "    </tr>\n",
       "    <tr>\n",
       "      <th>4</th>\n",
       "      <td>1</td>\n",
       "      <td>17348948</td>\n",
       "      <td>17349280</td>\n",
       "      <td>332</td>\n",
       "      <td>3465</td>\n",
       "      <td>1157</td>\n",
       "    </tr>\n",
       "    <tr>\n",
       "      <th>5</th>\n",
       "      <td>1</td>\n",
       "      <td>17350437</td>\n",
       "      <td>17350599</td>\n",
       "      <td>162</td>\n",
       "      <td>1157</td>\n",
       "      <td>3614</td>\n",
       "    </tr>\n",
       "    <tr>\n",
       "      <th>6</th>\n",
       "      <td>1</td>\n",
       "      <td>17354213</td>\n",
       "      <td>17354390</td>\n",
       "      <td>177</td>\n",
       "      <td>3614</td>\n",
       "      <td>674</td>\n",
       "    </tr>\n",
       "    <tr>\n",
       "      <th>...</th>\n",
       "      <td>...</td>\n",
       "      <td>...</td>\n",
       "      <td>...</td>\n",
       "      <td>...</td>\n",
       "      <td>...</td>\n",
       "      <td>...</td>\n",
       "    </tr>\n",
       "    <tr>\n",
       "      <th>3008</th>\n",
       "      <td>X</td>\n",
       "      <td>130419122</td>\n",
       "      <td>130419470</td>\n",
       "      <td>348</td>\n",
       "      <td>1854</td>\n",
       "      <td>240</td>\n",
       "    </tr>\n",
       "    <tr>\n",
       "      <th>3009</th>\n",
       "      <td>X</td>\n",
       "      <td>130419710</td>\n",
       "      <td>130420052</td>\n",
       "      <td>342</td>\n",
       "      <td>240</td>\n",
       "      <td>328</td>\n",
       "    </tr>\n",
       "    <tr>\n",
       "      <th>3010</th>\n",
       "      <td>X</td>\n",
       "      <td>130420380</td>\n",
       "      <td>130420467</td>\n",
       "      <td>87</td>\n",
       "      <td>328</td>\n",
       "      <td>81</td>\n",
       "    </tr>\n",
       "    <tr>\n",
       "      <th>3011</th>\n",
       "      <td>X</td>\n",
       "      <td>130420548</td>\n",
       "      <td>130420848</td>\n",
       "      <td>300</td>\n",
       "      <td>81</td>\n",
       "      <td>5010509</td>\n",
       "    </tr>\n",
       "    <tr>\n",
       "      <th>3013</th>\n",
       "      <td>X</td>\n",
       "      <td>139585684</td>\n",
       "      <td>139587425</td>\n",
       "      <td>1741</td>\n",
       "      <td>4154326</td>\n",
       "      <td>0</td>\n",
       "    </tr>\n",
       "  </tbody>\n",
       "</table>\n",
       "<p>2280 rows × 6 columns</p>\n",
       "</div>"
      ],
      "text/plain": [
       "     chrom      start        end  length  dist_before  dist_after\n",
       "1        1    7917093    7917213     120           17     2649001\n",
       "3        1   17345175   17345483     308      6778960        3465\n",
       "4        1   17348948   17349280     332         3465        1157\n",
       "5        1   17350437   17350599     162         1157        3614\n",
       "6        1   17354213   17354390     177         3614         674\n",
       "...    ...        ...        ...     ...          ...         ...\n",
       "3008     X  130419122  130419470     348         1854         240\n",
       "3009     X  130419710  130420052     342          240         328\n",
       "3010     X  130420380  130420467      87          328          81\n",
       "3011     X  130420548  130420848     300           81     5010509\n",
       "3013     X  139585684  139587425    1741      4154326           0\n",
       "\n",
       "[2280 rows x 6 columns]"
      ]
     },
     "execution_count": 7,
     "metadata": {},
     "output_type": "execute_result"
    }
   ],
   "source": [
    "intervals_df.drop(intervals_df[intervals_df['length'] == 1].index, inplace=True)\n",
    "intervals_df"
   ]
  },
  {
   "cell_type": "markdown",
   "id": "4d2600e9",
   "metadata": {
    "jp-MarkdownHeadingCollapsed": true,
    "tags": []
   },
   "source": [
    "## Visualise intervals"
   ]
  },
  {
   "cell_type": "code",
   "execution_count": 9,
   "id": "d1eb7b8d",
   "metadata": {},
   "outputs": [
    {
     "ename": "NameError",
     "evalue": "name 'interval_list_df' is not defined",
     "output_type": "error",
     "traceback": [
      "\u001b[0;31m---------------------------------------------------------------------------\u001b[0m",
      "\u001b[0;31mNameError\u001b[0m                                 Traceback (most recent call last)",
      "\u001b[0;32m<ipython-input-9-06d69a840d37>\u001b[0m in \u001b[0;36m<module>\u001b[0;34m\u001b[0m\n\u001b[0;32m----> 1\u001b[0;31m \u001b[0mprint\u001b[0m\u001b[0;34m(\u001b[0m\u001b[0minterval_list_df\u001b[0m\u001b[0;34m[\u001b[0m\u001b[0;34m'length'\u001b[0m\u001b[0;34m]\u001b[0m\u001b[0;34m.\u001b[0m\u001b[0mmin\u001b[0m\u001b[0;34m(\u001b[0m\u001b[0;34m)\u001b[0m\u001b[0;34m)\u001b[0m\u001b[0;34m\u001b[0m\u001b[0;34m\u001b[0m\u001b[0m\n\u001b[0m\u001b[1;32m      2\u001b[0m \u001b[0mprint\u001b[0m\u001b[0;34m(\u001b[0m\u001b[0minterval_list_df\u001b[0m\u001b[0;34m[\u001b[0m\u001b[0;34m'length'\u001b[0m\u001b[0;34m]\u001b[0m\u001b[0;34m.\u001b[0m\u001b[0mmean\u001b[0m\u001b[0;34m(\u001b[0m\u001b[0;34m)\u001b[0m\u001b[0;34m)\u001b[0m\u001b[0;34m\u001b[0m\u001b[0;34m\u001b[0m\u001b[0m\n\u001b[1;32m      3\u001b[0m \u001b[0mprint\u001b[0m\u001b[0;34m(\u001b[0m\u001b[0minterval_list_df\u001b[0m\u001b[0;34m[\u001b[0m\u001b[0;34m'length'\u001b[0m\u001b[0;34m]\u001b[0m\u001b[0;34m.\u001b[0m\u001b[0mmax\u001b[0m\u001b[0;34m(\u001b[0m\u001b[0;34m)\u001b[0m\u001b[0;34m)\u001b[0m\u001b[0;34m\u001b[0m\u001b[0;34m\u001b[0m\u001b[0m\n",
      "\u001b[0;31mNameError\u001b[0m: name 'interval_list_df' is not defined"
     ]
    }
   ],
   "source": [
    "print(interval_list_df['length'].min())\n",
    "print(interval_list_df['length'].mean())\n",
    "print(interval_list_df['length'].max())"
   ]
  },
  {
   "cell_type": "code",
   "execution_count": null,
   "id": "ba1197c8",
   "metadata": {},
   "outputs": [],
   "source": [
    "f, ax = plt.subplots(figsize=(7, 5))\n",
    "\n",
    "sns.distplot(interval_list_df['length'], ax=ax, kde=False)\n",
    "\n",
    "ax.set_title('Interval lengths', fontsize = 18)\n",
    "ax.set_ylabel('counts', fontsize=18)\n",
    "ax.set_xlabel('size (b)', fontsize = 18)\n"
   ]
  },
  {
   "cell_type": "code",
   "execution_count": null,
   "id": "cb4fd57b",
   "metadata": {},
   "outputs": [],
   "source": [
    "f, ax = plt.subplots(figsize=(7, 5))\n",
    "\n",
    "sns.distplot(interval_list_df.loc[interval_list_df['length'] < 500, 'length'], ax=ax, kde=False)\n",
    "\n",
    "ax.set_title('Interval lengths', fontsize = 18)\n",
    "ax.set_ylabel('counts', fontsize=18)\n",
    "ax.set_xlabel('size (b)', fontsize = 18)\n"
   ]
  },
  {
   "cell_type": "code",
   "execution_count": null,
   "id": "e319c19b-8da1-4d11-bac9-00562724b4a9",
   "metadata": {},
   "outputs": [],
   "source": [
    "f, ax = plt.subplots(figsize=(7, 5))\n",
    "\n",
    "sns.distplot(interval_list_df.loc[interval_list_df['length'] < 100, 'length'], ax=ax, kde=False)\n",
    "\n",
    "ax.set_title('Interval lengths', fontsize = 18)\n",
    "ax.set_xlim(0, 100)\n",
    "ax.set_ylabel('counts', fontsize=18)\n",
    "ax.set_xlabel('size (b)', fontsize = 18)\n"
   ]
  },
  {
   "cell_type": "code",
   "execution_count": null,
   "id": "a8f6ba68",
   "metadata": {},
   "outputs": [],
   "source": [
    "f, ax = plt.subplots(figsize=(10,7))\n",
    "\n",
    "sns.distplot(interval_list_df['dist_before'], ax=ax, kde=False)\n",
    "\n",
    "ax.set_title('Distance before', fontsize = 18)\n",
    "ax.set_ylabel('counts', fontsize=18)\n",
    "ax.set_xlabel('size (b)', fontsize = 18)\n",
    "\n",
    "plt.show()"
   ]
  },
  {
   "cell_type": "code",
   "execution_count": null,
   "id": "43a5be61",
   "metadata": {},
   "outputs": [],
   "source": [
    "interval_list_df.groupby('dist_before').count()[:20]"
   ]
  },
  {
   "cell_type": "code",
   "execution_count": null,
   "id": "d37943d8",
   "metadata": {},
   "outputs": [],
   "source": [
    "interval_list_df.groupby('length').count()[:20]"
   ]
  },
  {
   "cell_type": "code",
   "execution_count": null,
   "id": "6bb1ea8e",
   "metadata": {},
   "outputs": [],
   "source": [
    "interval_list_df.groupby('length').count()[-10:]"
   ]
  },
  {
   "cell_type": "code",
   "execution_count": null,
   "id": "5b508543",
   "metadata": {},
   "outputs": [],
   "source": [
    "interval_list_df[interval_list_df['length'] == 31915] # COL2A1 small exons close to each other"
   ]
  },
  {
   "cell_type": "markdown",
   "id": "77771e95",
   "metadata": {
    "tags": []
   },
   "source": [
    "## Split intervals"
   ]
  },
  {
   "cell_type": "code",
   "execution_count": 10,
   "id": "bd98086b-9249-423d-9c8a-f367cbbd4701",
   "metadata": {},
   "outputs": [],
   "source": [
    "interval_list_df = intervals_df.copy()"
   ]
  },
  {
   "cell_type": "markdown",
   "id": "cfea9b88-7ab3-4009-91b7-a8ed9468ca4a",
   "metadata": {
    "tags": []
   },
   "source": [
    "### Identify regions need splitting"
   ]
  },
  {
   "cell_type": "code",
   "execution_count": 11,
   "id": "88e732a1-1caf-4f5b-8d5a-5d1b46e1604b",
   "metadata": {},
   "outputs": [
    {
     "data": {
      "text/html": [
       "<div>\n",
       "<style scoped>\n",
       "    .dataframe tbody tr th:only-of-type {\n",
       "        vertical-align: middle;\n",
       "    }\n",
       "\n",
       "    .dataframe tbody tr th {\n",
       "        vertical-align: top;\n",
       "    }\n",
       "\n",
       "    .dataframe thead th {\n",
       "        text-align: right;\n",
       "    }\n",
       "</style>\n",
       "<table border=\"1\" class=\"dataframe\">\n",
       "  <thead>\n",
       "    <tr style=\"text-align: right;\">\n",
       "      <th></th>\n",
       "      <th>chrom</th>\n",
       "      <th>start</th>\n",
       "      <th>end</th>\n",
       "      <th>length</th>\n",
       "      <th>dist_before</th>\n",
       "      <th>dist_after</th>\n",
       "      <th>50</th>\n",
       "      <th>100</th>\n",
       "      <th>160</th>\n",
       "      <th>500</th>\n",
       "    </tr>\n",
       "  </thead>\n",
       "  <tbody>\n",
       "    <tr>\n",
       "      <th>1</th>\n",
       "      <td>1</td>\n",
       "      <td>7917093</td>\n",
       "      <td>7917213</td>\n",
       "      <td>120</td>\n",
       "      <td>17</td>\n",
       "      <td>2649001</td>\n",
       "      <td>True</td>\n",
       "      <td>True</td>\n",
       "      <td>False</td>\n",
       "      <td>False</td>\n",
       "    </tr>\n",
       "    <tr>\n",
       "      <th>3</th>\n",
       "      <td>1</td>\n",
       "      <td>17345175</td>\n",
       "      <td>17345483</td>\n",
       "      <td>308</td>\n",
       "      <td>6778960</td>\n",
       "      <td>3465</td>\n",
       "      <td>True</td>\n",
       "      <td>True</td>\n",
       "      <td>True</td>\n",
       "      <td>False</td>\n",
       "    </tr>\n",
       "    <tr>\n",
       "      <th>4</th>\n",
       "      <td>1</td>\n",
       "      <td>17348948</td>\n",
       "      <td>17349280</td>\n",
       "      <td>332</td>\n",
       "      <td>3465</td>\n",
       "      <td>1157</td>\n",
       "      <td>True</td>\n",
       "      <td>True</td>\n",
       "      <td>True</td>\n",
       "      <td>False</td>\n",
       "    </tr>\n",
       "    <tr>\n",
       "      <th>5</th>\n",
       "      <td>1</td>\n",
       "      <td>17350437</td>\n",
       "      <td>17350599</td>\n",
       "      <td>162</td>\n",
       "      <td>1157</td>\n",
       "      <td>3614</td>\n",
       "      <td>True</td>\n",
       "      <td>True</td>\n",
       "      <td>True</td>\n",
       "      <td>False</td>\n",
       "    </tr>\n",
       "    <tr>\n",
       "      <th>6</th>\n",
       "      <td>1</td>\n",
       "      <td>17354213</td>\n",
       "      <td>17354390</td>\n",
       "      <td>177</td>\n",
       "      <td>3614</td>\n",
       "      <td>674</td>\n",
       "      <td>True</td>\n",
       "      <td>True</td>\n",
       "      <td>True</td>\n",
       "      <td>False</td>\n",
       "    </tr>\n",
       "    <tr>\n",
       "      <th>...</th>\n",
       "      <td>...</td>\n",
       "      <td>...</td>\n",
       "      <td>...</td>\n",
       "      <td>...</td>\n",
       "      <td>...</td>\n",
       "      <td>...</td>\n",
       "      <td>...</td>\n",
       "      <td>...</td>\n",
       "      <td>...</td>\n",
       "      <td>...</td>\n",
       "    </tr>\n",
       "    <tr>\n",
       "      <th>3008</th>\n",
       "      <td>X</td>\n",
       "      <td>130419122</td>\n",
       "      <td>130419470</td>\n",
       "      <td>348</td>\n",
       "      <td>1854</td>\n",
       "      <td>240</td>\n",
       "      <td>True</td>\n",
       "      <td>True</td>\n",
       "      <td>True</td>\n",
       "      <td>False</td>\n",
       "    </tr>\n",
       "    <tr>\n",
       "      <th>3009</th>\n",
       "      <td>X</td>\n",
       "      <td>130419710</td>\n",
       "      <td>130420052</td>\n",
       "      <td>342</td>\n",
       "      <td>240</td>\n",
       "      <td>328</td>\n",
       "      <td>True</td>\n",
       "      <td>True</td>\n",
       "      <td>True</td>\n",
       "      <td>False</td>\n",
       "    </tr>\n",
       "    <tr>\n",
       "      <th>3010</th>\n",
       "      <td>X</td>\n",
       "      <td>130420380</td>\n",
       "      <td>130420467</td>\n",
       "      <td>87</td>\n",
       "      <td>328</td>\n",
       "      <td>81</td>\n",
       "      <td>True</td>\n",
       "      <td>False</td>\n",
       "      <td>False</td>\n",
       "      <td>False</td>\n",
       "    </tr>\n",
       "    <tr>\n",
       "      <th>3011</th>\n",
       "      <td>X</td>\n",
       "      <td>130420548</td>\n",
       "      <td>130420848</td>\n",
       "      <td>300</td>\n",
       "      <td>81</td>\n",
       "      <td>5010509</td>\n",
       "      <td>True</td>\n",
       "      <td>True</td>\n",
       "      <td>True</td>\n",
       "      <td>False</td>\n",
       "    </tr>\n",
       "    <tr>\n",
       "      <th>3013</th>\n",
       "      <td>X</td>\n",
       "      <td>139585684</td>\n",
       "      <td>139587425</td>\n",
       "      <td>1741</td>\n",
       "      <td>4154326</td>\n",
       "      <td>0</td>\n",
       "      <td>True</td>\n",
       "      <td>True</td>\n",
       "      <td>True</td>\n",
       "      <td>True</td>\n",
       "    </tr>\n",
       "  </tbody>\n",
       "</table>\n",
       "<p>2280 rows × 10 columns</p>\n",
       "</div>"
      ],
      "text/plain": [
       "     chrom      start        end  length  dist_before  dist_after    50  \\\n",
       "1        1    7917093    7917213     120           17     2649001  True   \n",
       "3        1   17345175   17345483     308      6778960        3465  True   \n",
       "4        1   17348948   17349280     332         3465        1157  True   \n",
       "5        1   17350437   17350599     162         1157        3614  True   \n",
       "6        1   17354213   17354390     177         3614         674  True   \n",
       "...    ...        ...        ...     ...          ...         ...   ...   \n",
       "3008     X  130419122  130419470     348         1854         240  True   \n",
       "3009     X  130419710  130420052     342          240         328  True   \n",
       "3010     X  130420380  130420467      87          328          81  True   \n",
       "3011     X  130420548  130420848     300           81     5010509  True   \n",
       "3013     X  139585684  139587425    1741      4154326           0  True   \n",
       "\n",
       "        100    160    500  \n",
       "1      True  False  False  \n",
       "3      True   True  False  \n",
       "4      True   True  False  \n",
       "5      True   True  False  \n",
       "6      True   True  False  \n",
       "...     ...    ...    ...  \n",
       "3008   True   True  False  \n",
       "3009   True   True  False  \n",
       "3010  False  False  False  \n",
       "3011   True   True  False  \n",
       "3013   True   True   True  \n",
       "\n",
       "[2280 rows x 10 columns]"
      ]
     },
     "execution_count": 11,
     "metadata": {},
     "output_type": "execute_result"
    }
   ],
   "source": [
    "interval_list_df[interval_length_min] = interval_list_df['length'] > interval_length_min\n",
    "interval_list_df[interval_length_max] = interval_list_df['length'] > interval_length_max\n",
    "interval_list_df[interval_length_max2] = interval_list_df['length'] > interval_length_max2\n",
    "interval_list_df[interval_length_max3] = interval_list_df['length'] > interval_length_max3\n",
    "interval_list_df"
   ]
  },
  {
   "cell_type": "markdown",
   "id": "0b35e895-13e6-48ff-a714-059b45775df9",
   "metadata": {},
   "source": [
    "### Copy smaller intervals into new dataframe"
   ]
  },
  {
   "cell_type": "code",
   "execution_count": 12,
   "id": "13158e61",
   "metadata": {},
   "outputs": [],
   "source": [
    "# Create new table for the intervals that are optimised to be between less than 100 bp\n",
    "\n",
    "# Step 1: copy over smaller intervals intact\n",
    "intervals_max_100 = interval_list_df.loc[interval_list_df[interval_length_max] == False, ['chrom', 'start', 'end', 'length']].reset_index(drop=True)\n",
    "intervals_max_160 = interval_list_df.loc[interval_list_df[interval_length_max2] == False, ['chrom', 'start', 'end', 'length']].reset_index(drop=True)\n",
    "intervals_max_500 = interval_list_df.loc[interval_list_df[interval_length_max3] == False, ['chrom', 'start', 'end', 'length']].reset_index(drop=True)"
   ]
  },
  {
   "cell_type": "markdown",
   "id": "6095c732-b0b3-4ccd-9d38-09d0ea959380",
   "metadata": {
    "tags": []
   },
   "source": [
    "### Split larger intervals"
   ]
  },
  {
   "cell_type": "code",
   "execution_count": 13,
   "id": "8f2e26eb-5cb1-4ec5-a93d-81058e27b0c1",
   "metadata": {},
   "outputs": [],
   "source": [
    "# step 2: split longer intervals into smaller ones within range\n",
    "def split_intervals(length, interval_length_max):\n",
    "    num_intervals = int(length / interval_length_max)\n",
    "    leftover = length % interval_length_max\n",
    "#     print(length, num_intervals, interval_length_max, leftover)\n",
    "    if leftover == 0:\n",
    "        interval_lengths = [interval_length_max] * num_intervals\n",
    "    else:\n",
    "        num_intervals += 1\n",
    "        base_interval_length = int(length / num_intervals)\n",
    "        spillover = length % num_intervals\n",
    "#         print(length, num_intervals, base_interval_length, spillover)\n",
    "        interval_lengths = [base_interval_length] * num_intervals\n",
    "        for i in range(spillover):\n",
    "            interval_lengths[i] += 1\n",
    "    return interval_lengths"
   ]
  },
  {
   "cell_type": "code",
   "execution_count": null,
   "id": "83b6caa1-dfa1-4d90-a53e-b0f203506038",
   "metadata": {},
   "outputs": [],
   "source": [
    "print(split_intervals(381, 100))"
   ]
  },
  {
   "cell_type": "code",
   "execution_count": 18,
   "id": "e23858f4-0952-42be-a4ec-aa19b31269b3",
   "metadata": {},
   "outputs": [],
   "source": [
    "def new_intervals(row, int_length):\n",
    "    new_interval_lengths = split_intervals(row.length, int_length) # list of interval lengths\n",
    "    chroms = [row.chrom] * len(new_interval_lengths)\n",
    "\n",
    "    for i in range(len(new_interval_lengths)):\n",
    "        if i == 0:\n",
    "            starts = [row.start]\n",
    "            ends = [starts[0] + new_interval_lengths[i]]\n",
    "        else:\n",
    "            starts.append(ends[i-1]) # sum(new_interval_lengths[:i])\n",
    "            ends.append(starts[i] + new_interval_lengths[i])\n",
    "#     print(row.start, row.end)\n",
    "#     print(\"starts\", starts)\n",
    "#     print(\"lengths\", new_interval_lengths)\n",
    "#     print(\"ends\", ends)\n",
    "#     print(ends[-1] == row.end)\n",
    "    new_intervals = pd.DataFrame({'chrom': chroms, 'start': starts, 'end': ends, 'length': new_interval_lengths})\n",
    "    global split_intervals_max_500\n",
    "    split_intervals_max_500 = pd.concat([split_intervals_max_500, new_intervals], axis=0)\n",
    "    return None"
   ]
  },
  {
   "cell_type": "code",
   "execution_count": null,
   "id": "aa28b71d-3929-4e0d-996c-aefbc96af8a9",
   "metadata": {},
   "outputs": [],
   "source": [
    "test_df = interval_list_df.loc[interval_list_df['above100'], ['chrom', 'start', 'end', 'length']].iloc[5:10]\n",
    "test_df\n",
    "\n",
    "split_intervals_max_100 = pd.DataFrame(columns=['chrom', 'start', 'end', 'length'])\n",
    "test_df.apply(lambda row: new_intervals(row, interval_length_max), axis=1)\n",
    "split_intervals_max_100"
   ]
  },
  {
   "cell_type": "code",
   "execution_count": 15,
   "id": "7de35b78",
   "metadata": {},
   "outputs": [
    {
     "name": "stdout",
     "output_type": "stream",
     "text": [
      "7981\n"
     ]
    }
   ],
   "source": [
    "split_intervals_max_100 = pd.DataFrame(columns=['chrom', 'start', 'end', 'length'])\n",
    "interval_list_df.loc[interval_list_df[interval_length_max], ['chrom', 'start', 'end', 'length']].apply(lambda row: new_intervals(row, interval_length_max), axis=1)\n",
    "print(len(split_intervals_max_100))"
   ]
  },
  {
   "cell_type": "code",
   "execution_count": 17,
   "id": "b724ff11-f080-45ce-9e1b-dc3454ce7680",
   "metadata": {},
   "outputs": [
    {
     "name": "stdout",
     "output_type": "stream",
     "text": [
      "4800\n"
     ]
    }
   ],
   "source": [
    "split_intervals_max_160 = pd.DataFrame(columns=['chrom', 'start', 'end', 'length'])\n",
    "interval_list_df.loc[interval_list_df[interval_length_max2], ['chrom', 'start', 'end', 'length']].apply(lambda row: new_intervals(row, interval_length_max2), axis=1)\n",
    "print(len(split_intervals_max_160))"
   ]
  },
  {
   "cell_type": "code",
   "execution_count": 19,
   "id": "f5668f87-6323-423a-b549-966c3507fe55",
   "metadata": {},
   "outputs": [
    {
     "name": "stdout",
     "output_type": "stream",
     "text": [
      "604\n"
     ]
    }
   ],
   "source": [
    "split_intervals_max_500 = pd.DataFrame(columns=['chrom', 'start', 'end', 'length'])\n",
    "interval_list_df.loc[interval_list_df[interval_length_max3], ['chrom', 'start', 'end', 'length']].apply(lambda row: new_intervals(row, interval_length_max3), axis=1)\n",
    "print(len(split_intervals_max_500))"
   ]
  },
  {
   "cell_type": "markdown",
   "id": "371212b4-9d52-4f4e-b4fb-7de96f43cd41",
   "metadata": {},
   "source": [
    "## Merge together the originally smaller and the now split intervals"
   ]
  },
  {
   "cell_type": "code",
   "execution_count": 20,
   "id": "0c325534-7995-4c01-848f-0dd2ef4d5254",
   "metadata": {},
   "outputs": [
    {
     "name": "stdout",
     "output_type": "stream",
     "text": [
      "8064\n"
     ]
    }
   ],
   "source": [
    "intervals_max_100 = pd.concat([intervals_max_100, split_intervals_max_100], axis=0)\n",
    "intervals_max_100.sort_values(by=['chrom', 'start'], inplace=True)\n",
    "intervals_max_100.reset_index(drop=True)\n",
    "# Save to file\n",
    "intervals_max_100.to_csv('capture_merged10_split100.bed', sep='\\t', index=False, header=False, columns=['chrom', 'start', 'end'])\n",
    "print(len(intervals_max_100))"
   ]
  },
  {
   "cell_type": "code",
   "execution_count": 21,
   "id": "474a9c63-dec9-435f-93fb-fdf7ea95a46a",
   "metadata": {},
   "outputs": [
    {
     "name": "stdout",
     "output_type": "stream",
     "text": [
      "5426\n"
     ]
    }
   ],
   "source": [
    "intervals_max_160 = pd.concat([intervals_max_160, split_intervals_max_160], axis=0)\n",
    "intervals_max_160.sort_values(by=['chrom', 'start'], inplace=True)\n",
    "intervals_max_160.reset_index(drop=True)\n",
    "intervals_max_160.to_csv('capture_merged10_split160.bed', sep='\\t', index=False, header=False, columns=['chrom', 'start', 'end'])\n",
    "print(len(intervals_max_160))"
   ]
  },
  {
   "cell_type": "code",
   "execution_count": 22,
   "id": "6d378c7e-4d6e-45ab-b780-aeb5a710a410",
   "metadata": {},
   "outputs": [
    {
     "name": "stdout",
     "output_type": "stream",
     "text": [
      "2685\n"
     ]
    }
   ],
   "source": [
    "intervals_max_500 = pd.concat([intervals_max_500, split_intervals_max_500], axis=0)\n",
    "intervals_max_500.sort_values(by=['chrom', 'start'], inplace=True)\n",
    "intervals_max_500.reset_index(drop=True)\n",
    "intervals_max_500.to_csv('capture_merged10_split500.bed', sep='\\t', index=False, header=False, columns=['chrom', 'start', 'end'])\n",
    "print(len(intervals_max_500))"
   ]
  },
  {
   "cell_type": "code",
   "execution_count": null,
   "id": "7c38c171",
   "metadata": {},
   "outputs": [],
   "source": [
    "def split_intervals_min(length, interval_length_min):\n",
    "    num_intervals = int(length / interval_length_min)\n",
    "    spillover = length % interval_length_min\n",
    "    base_interval_length = interval_length_min + int(spillover / num_intervals)\n",
    "    leftover = spillover % num_intervals # which is always less than the number of intervals\n",
    "    interval_lengths = [base_interval_length] * num_intervals # list of length num_intervals\n",
    "    print(length, \"num int\", num_intervals, \"spill\", spillover, \"extra\", int(spillover / num_intervals), \"left\", leftover)\n",
    "    for i in range(leftover):\n",
    "        interval_lengths[i] += 1\n",
    "    return interval_lengths"
   ]
  }
 ],
 "metadata": {
  "kernelspec": {
   "display_name": "Python 3",
   "language": "python",
   "name": "python3"
  },
  "language_info": {
   "codemirror_mode": {
    "name": "ipython",
    "version": 3
   },
   "file_extension": ".py",
   "mimetype": "text/x-python",
   "name": "python",
   "nbconvert_exporter": "python",
   "pygments_lexer": "ipython3",
   "version": "3.6.9"
  }
 },
 "nbformat": 4,
 "nbformat_minor": 5
}
